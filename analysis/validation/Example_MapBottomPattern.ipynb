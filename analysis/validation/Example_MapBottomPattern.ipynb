{
 "cells": [
  {
   "cell_type": "markdown",
   "metadata": {},
   "source": [
    "# Convert from a fixed pattern on the bottom to a mapping for the positions\n",
    "\n",
    "Suppose we have a fixed pattern with known dimensions on the bottom of the setup. This pattern is distorted due to refractions. We can create a mapping from the observed pattern by the camera back to the real coordinates."
   ]
  },
  {
   "cell_type": "code",
   "execution_count": null,
   "metadata": {},
   "outputs": [],
   "source": [
    "import numpy as np\n",
    "import matplotlib.pyplot as plt\n",
    "import scipy.optimize as optimization\n",
    "plt.rcParams['figure.dpi'] = 200"
   ]
  },
  {
   "cell_type": "markdown",
   "metadata": {},
   "source": [
    "## Create a pattern and distort it"
   ]
  },
  {
   "cell_type": "code",
   "execution_count": null,
   "metadata": {},
   "outputs": [],
   "source": [
    "# Lines (1D)\n",
    "\n",
    "n_lines = 10\n",
    "x_lines = np.linspace(-1,1,n_lines) \n",
    "\n",
    "# Distortion\n",
    "mag_dist = 0.1\n",
    "x_lines_dist = x_lines + mag_dist*(2*np.random.rand(n_lines)-1)\n",
    "\n",
    "fig, ax = plt.subplots(1,1)\n",
    "for i in range(0,n_lines,1):\n",
    "    plt.axvline(x_lines[i],color='k')\n",
    "    plt.axvline(x_lines_dist[i],color='k',linestyle=':')\n",
    "plt.legend(['Real','Distorted'])\n",
    "plt.title('Position of lines on the bottom')\n",
    "plt.xlabel('x')\n",
    "plt.ylabel('y')\n",
    "ax.set_aspect('equal')\n",
    "plt.show()\n",
    "\n",
    "\n",
    "# Dots (2D)\n",
    "\n",
    "n_x_dots = 10\n",
    "n_y_dots = 5\n",
    "x_dots, y_dots = np.meshgrid(np.linspace(-1,1,n_x_dots),np.linspace(-1,1,n_y_dots)) \n",
    "x_dots = x_dots.flatten()\n",
    "y_dots = y_dots.flatten()\n",
    "\n",
    "# Distortion\n",
    "mag_dist = 0.05\n",
    "x_dots_dist = x_dots + mag_dist*(2*np.random.rand(n_x_dots*n_y_dots)-1)\n",
    "y_dots_dist = y_dots + mag_dist*(2*np.random.rand(n_x_dots*n_y_dots)-1)\n",
    "\n",
    "fig, ax = plt.subplots(1,1)\n",
    "plt.plot(x_dots,y_dots,'k.',label='Real')\n",
    "plt.plot(x_dots_dist,y_dots_dist,'k.',mfc='w',label='Distorted')\n",
    "plt.legend()\n",
    "plt.title('Position of dots on the bottom')\n",
    "plt.xlabel('x')\n",
    "plt.ylabel('y')\n",
    "ax.set_aspect('equal')\n",
    "plt.show()"
   ]
  },
  {
   "cell_type": "markdown",
   "metadata": {},
   "source": [
    "# Assign pixel values to distorted points and a surface through them\n",
    "## 1D example"
   ]
  },
  {
   "cell_type": "code",
   "execution_count": null,
   "metadata": {},
   "outputs": [],
   "source": [
    "# Construct actual bottom positions\n",
    "n_x_dots = 10\n",
    "x_dots_real = np.linspace(-1,1,n_x_dots)\n",
    "\n",
    "# Come up with (fictional) corresponding pixel values\n",
    "x_dots_pixel = np.asarray([int(np.sign(x)*abs(x)**0.9 * 1000 + np.random.rand()) for x in x_dots_real])\n",
    "\n",
    "\n",
    "# Example functions to be used here\n",
    "def surface_1D(x, A,B,C,D):\n",
    "    return A*x**3 + B*x**2 + C*x + D\n",
    "\n",
    "\n",
    "# 1D \n",
    "popt, pcov = optimization.curve_fit(surface_1D, x_dots_pixel, x_dots_real)\n",
    "perr = np.sqrt(np.diag(pcov))\n",
    "\n",
    "\n",
    "print(*popt)\n",
    "\n",
    "\n",
    "plt.figure(figsize=(12,8))\n",
    "plt.plot(x_dots_pixel,x_dots_real,'kx',label='Data')\n",
    "xrange = np.linspace(min(x_dots_pixel),max(x_dots_pixel),100)\n",
    "plt.plot(xrange,surface_1D(xrange,*popt),'r-',label='Best fit')\n",
    "plt.xlabel('Image position [px]')\n",
    "plt.ylabel('Real position [m]')\n",
    "plt.legend()\n",
    "plt.grid()\n",
    "plt.show()"
   ]
  },
  {
   "cell_type": "markdown",
   "metadata": {},
   "source": [
    "## 2D Example"
   ]
  },
  {
   "cell_type": "code",
   "execution_count": null,
   "metadata": {},
   "outputs": [],
   "source": [
    "# Construct actual bottom positions\n",
    "n_x_dots = 10\n",
    "n_y_dots = 5\n",
    "x_dots, y_dots = np.meshgrid(np.linspace(-1,1,n_x_dots),np.linspace(-1,1,n_y_dots)) \n",
    "x_dots_real = x_dots.flatten()\n",
    "y_dots_real = y_dots.flatten()\n",
    "\n",
    "\n",
    "# Come up with (fictional) corresponding pixel values, and distort them based on some common value\n",
    "x_dots_pixel = x_dots_real * 1000 * np.sqrt(x_dots_real**2+y_dots_real**2)\n",
    "y_dots_pixel = y_dots_real * 1000 * np.sqrt(x_dots_real**2+y_dots_real**2)\n",
    "\n",
    "x_dots_pixel = [int(x) for x in x_dots_pixel]\n",
    "y_dots_pixel = [int(y) for y in y_dots_pixel]\n",
    "\n",
    "# Example functions to be used here\n",
    "\n",
    "\n",
    "def surface_2D(xy, A,B,C,D,E,F):\n",
    "    x = xy[0,:]\n",
    "    y = xy[1,:]\n",
    "    return A*x**2 + B*y**2 + C*x + D*y + E*x*y + F \n",
    "\n",
    "# 2D\n",
    "poptx, pcov = optimization.curve_fit(surface_2D, np.vstack((x_dots_pixel,y_dots_pixel)), x_dots_real) # x deformation\n",
    "popty, pcov = optimization.curve_fit(surface_2D, np.vstack((y_dots_pixel,x_dots_pixel)), y_dots_real) # y deformation\n",
    "\n",
    "print(*poptx)\n",
    "print(*popty)\n",
    "\n",
    "# Show deformation on a regular grid\n",
    "plt.figure(figsize=(12,8))\n",
    "plt.plot(x_dots_real,y_dots_real,'kx',label='Real positions')\n",
    "plt.plot(surface_2D(np.vstack((x_dots_pixel,y_dots_pixel)),*poptx), surface_2D(np.vstack((y_dots_pixel,x_dots_pixel)),*popty),'.r',label='Recovered positions')\n",
    "plt.legend()\n",
    "plt.grid()\n",
    "plt.show()\n",
    "\n",
    "plt.figure()\n",
    "plt.plot(x_dots_pixel,x_dots_real,'kx',label='Real data')\n",
    "plt.plot(x_dots_pixel,surface_2D(np.vstack((x_dots_pixel,y_dots_pixel)),*poptx),'.r',label='Recovered data')\n",
    "plt.xlabel('Image position [px]')\n",
    "plt.ylabel('Real position [m]')\n",
    "plt.legend()\n",
    "plt.grid()\n",
    "plt.show()"
   ]
  },
  {
   "cell_type": "code",
   "execution_count": null,
   "metadata": {},
   "outputs": [],
   "source": []
  }
 ],
 "metadata": {
  "kernelspec": {
   "display_name": "Python 3",
   "language": "python",
   "name": "python3"
  },
  "language_info": {
   "codemirror_mode": {
    "name": "ipython",
    "version": 3
   },
   "file_extension": ".py",
   "mimetype": "text/x-python",
   "name": "python",
   "nbconvert_exporter": "python",
   "pygments_lexer": "ipython3",
   "version": "3.6.9"
  }
 },
 "nbformat": 4,
 "nbformat_minor": 4
}
