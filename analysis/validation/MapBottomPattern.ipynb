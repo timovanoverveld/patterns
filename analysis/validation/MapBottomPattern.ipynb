{
 "cells": [
  {
   "cell_type": "markdown",
   "metadata": {},
   "source": [
    "# Convert from a fixed pattern on the bottom to a mapping for the positions\n",
    "\n",
    "Suppose we have a fixed pattern with known dimensions on the bottom of the setup. This pattern is distorted due to refractions. We can create a mapping from the observed pattern by the camera back to the real coordinates."
   ]
  },
  {
   "cell_type": "code",
   "execution_count": null,
   "metadata": {},
   "outputs": [],
   "source": [
    "import numpy as np\n",
    "import matplotlib.pyplot as plt\n",
    "plt.rcParams['figure.dpi'] = 200"
   ]
  },
  {
   "cell_type": "markdown",
   "metadata": {},
   "source": [
    "## Create a pattern and distort it"
   ]
  },
  {
   "cell_type": "code",
   "execution_count": null,
   "metadata": {},
   "outputs": [],
   "source": [
    "# Lines (1D)\n",
    "\n",
    "n_lines = 10\n",
    "x_lines = np.linspace(-1,1,n_lines) \n",
    "\n",
    "# Distortion\n",
    "mag_dist = 0.1\n",
    "x_lines_dist = x_lines + mag_dist*(2*np.random.rand(n_lines)-1)\n",
    "\n",
    "fig, ax = plt.subplots(1,1)\n",
    "for i in range(0,n_lines,1):\n",
    "    plt.axvline(x_lines[i],color='k')\n",
    "    plt.axvline(x_lines_dist[i],color='k',linestyle=':')\n",
    "plt.legend(['Real','Distorted'])\n",
    "plt.title('Position of lines on the bottom')\n",
    "plt.xlabel('x')\n",
    "plt.ylabel('y')\n",
    "ax.set_aspect('equal')\n",
    "plt.show()\n",
    "\n",
    "\n",
    "# Dots (2D)\n",
    "\n",
    "n_x_dots = 10\n",
    "n_y_dots = 5\n",
    "x_dots, y_dots = np.meshgrid(np.linspace(-1,1,n_x_dots),np.linspace(-1,1,n_y_dots)) \n",
    "x_dots = x_dots.flatten()\n",
    "y_dots = y_dots.flatten()\n",
    "\n",
    "# Distortion\n",
    "mag_dist = 0.05\n",
    "x_dots_dist = x_dots + mag_dist*(2*np.random.rand(n_x_dots*n_y_dots)-1)\n",
    "y_dots_dist = y_dots + mag_dist*(2*np.random.rand(n_x_dots*n_y_dots)-1)\n",
    "\n",
    "fig, ax = plt.subplots(1,1)\n",
    "plt.plot(x_dots,y_dots,'k.',label='Real')\n",
    "plt.plot(x_dots_dist,y_dots_dist,'k.',mfc='w',label='Distorted')\n",
    "plt.legend()\n",
    "plt.title('Position of dots on the bottom')\n",
    "plt.xlabel('x')\n",
    "plt.ylabel('y')\n",
    "ax.set_aspect('equal')\n",
    "plt.show()"
   ]
  }
 ],
 "metadata": {
  "kernelspec": {
   "display_name": "Python 3",
   "language": "python",
   "name": "python3"
  },
  "language_info": {
   "codemirror_mode": {
    "name": "ipython",
    "version": 3
   },
   "file_extension": ".py",
   "mimetype": "text/x-python",
   "name": "python",
   "nbconvert_exporter": "python",
   "pygments_lexer": "ipython3",
   "version": "3.6.9"
  }
 },
 "nbformat": 4,
 "nbformat_minor": 4
}
