{
 "cells": [
  {
   "cell_type": "markdown",
   "metadata": {},
   "source": [
    "# Detect the bottom dots on an image and use it to construct a spatial mapping"
   ]
  },
  {
   "cell_type": "markdown",
   "metadata": {},
   "source": [
    "## Read, open and display the image"
   ]
  },
  {
   "cell_type": "code",
   "execution_count": null,
   "metadata": {},
   "outputs": [],
   "source": [
    "# Load modules\n",
    "import cv2\n",
    "import numpy as np\n",
    "import matplotlib.pyplot as plt\n",
    "plt.rcParams['figure.dpi'] = 200\n",
    "\n",
    "# Read image\n",
    "path = './../data/calibration/exampledots.tiff'\n",
    "\n",
    "bitdepth = 16\n",
    "\n",
    "# If image has bitdepth 8 or it has sharp contrasts making grayscale values obsolete\n",
    "if bitdepth == 8:\n",
    "    image = cv2.imread(path,cv2.CV_8UC1) * 16\n",
    "# \n",
    "elif bitdepth == 16:\n",
    "    image = cv2.imread(path,cv2.CV_16UC1)\n",
    "\n",
    "# Show image\n",
    "plt.figure()\n",
    "plt.imshow(image*1,origin='lower',cmap='gray')\n",
    "plt.show()"
   ]
  },
  {
   "cell_type": "markdown",
   "metadata": {},
   "source": [
    "## Extract grid data from loaded image"
   ]
  },
  {
   "cell_type": "code",
   "execution_count": null,
   "metadata": {},
   "outputs": [],
   "source": [
    "# Fixed thresholding\n",
    "meanvalue = int(np.mean(image))\n",
    "thresholdvalue = meanvalue/1.5\n",
    "binaryImage = cv2.threshold(image,thresholdvalue,255,cv2.THRESH_BINARY_INV)[1]\n",
    "\n",
    "# Define a course kernel\n",
    "kernelClosed = np.ones((7,7),np.uint8)\n",
    "kernelOpen   = np.ones((5,5),np.uint8)\n",
    "\n",
    "# Reduce noise inside particles\n",
    "binaryImageClosed = cv2.morphologyEx(binaryImage, cv2.MORPH_CLOSE, kernelClosed)\n",
    "\n",
    "# Reduce noise outside particles\n",
    "binaryImageOpened = cv2.morphologyEx(binaryImageClosed, cv2.MORPH_OPEN, kernelOpen)\n",
    "\n",
    "markers = cv2.connectedComponents(np.uint8(binaryImageOpened))[1]\n",
    "\n",
    "Nmarkers = len(np.unique(markers))\n",
    "Ndots = int(13*7)\n",
    "maximumSize = 50\n",
    "minimumSize = 5\n",
    "\n",
    "xdots = np.empty(0,dtype=float)\n",
    "ydots = np.empty(0,dtype=float)\n",
    "\n",
    "for i in range(1,Nmarkers,1):\n",
    "    idx = np.argwhere(markers==i)\n",
    "    \n",
    "    xSpread = np.max(idx[:,1])-np.min(idx[:,1])    \n",
    "    ySpread = np.max(idx[:,0])-np.min(idx[:,0])\n",
    "    \n",
    "    if ((minimumSize < xSpread < maximumSize) and (minimumSize < ySpread < maximumSize)):\n",
    "        xdots = np.append(xdots,np.mean(idx[:,1]))\n",
    "        ydots = np.append(ydots,np.mean(idx[:,0]))\n",
    "    \n",
    "plt.figure()\n",
    "plt.imshow(image,origin='lower',cmap='gray')\n",
    "plt.plot(xdots,ydots,'r.',markersize=1)\n",
    "plt.show()"
   ]
  },
  {
   "cell_type": "markdown",
   "metadata": {},
   "source": [
    "## Couple image to a spatial grid"
   ]
  },
  {
   "cell_type": "code",
   "execution_count": null,
   "metadata": {},
   "outputs": [],
   "source": []
  }
 ],
 "metadata": {
  "kernelspec": {
   "display_name": "Python 3",
   "language": "python",
   "name": "python3"
  },
  "language_info": {
   "codemirror_mode": {
    "name": "ipython",
    "version": 3
   },
   "file_extension": ".py",
   "mimetype": "text/x-python",
   "name": "python",
   "nbconvert_exporter": "python",
   "pygments_lexer": "ipython3",
   "version": "3.6.9"
  }
 },
 "nbformat": 4,
 "nbformat_minor": 4
}
