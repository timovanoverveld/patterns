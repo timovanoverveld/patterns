{
 "cells": [
  {
   "cell_type": "markdown",
   "metadata": {},
   "source": [
    "# Detect the bottom dots on an image and use it to construct a spatial mapping"
   ]
  },
  {
   "cell_type": "markdown",
   "metadata": {},
   "source": [
    "## Read, open and display the image"
   ]
  },
  {
   "cell_type": "code",
   "execution_count": null,
   "metadata": {},
   "outputs": [],
   "source": [
    "# Load modules\n",
    "import cv2\n",
    "import numpy as np\n",
    "import matplotlib.pyplot as plt\n",
    "from mpl_toolkits.mplot3d import Axes3D\n",
    "plt.rcParams['figure.dpi'] = 200\n",
    "\n",
    "# Read image\n",
    "path = './../data/calibration/exampledots.tiff'\n",
    "\n",
    "bitdepth = 16\n",
    "\n",
    "# If image has bitdepth 8 or it has sharp contrasts making grayscale values obsolete\n",
    "if bitdepth == 8:\n",
    "    image = cv2.imread(path,cv2.CV_8UC1) * 16\n",
    "# \n",
    "elif bitdepth == 16:\n",
    "    image = cv2.imread(path,cv2.CV_16UC1)\n",
    "\n",
    "# Show image\n",
    "plt.figure()\n",
    "plt.imshow(image*1,origin='lower',cmap='gray')\n",
    "plt.show()"
   ]
  },
  {
   "cell_type": "markdown",
   "metadata": {},
   "source": [
    "## Extract grid data from loaded image"
   ]
  },
  {
   "cell_type": "code",
   "execution_count": null,
   "metadata": {},
   "outputs": [],
   "source": [
    "# Fixed thresholding\n",
    "meanvalue = int(np.mean(image))\n",
    "thresholdvalue = meanvalue/1.5\n",
    "binaryImage = cv2.threshold(image,thresholdvalue,255,cv2.THRESH_BINARY_INV)[1]\n",
    "\n",
    "# Define a course kernel\n",
    "kernelClosed = np.ones((7,7),np.uint8)\n",
    "kernelOpen   = np.ones((5,5),np.uint8)\n",
    "\n",
    "# Reduce noise inside particles\n",
    "binaryImageClosed = cv2.morphologyEx(binaryImage, cv2.MORPH_CLOSE, kernelClosed)\n",
    "\n",
    "# Reduce noise outside particles\n",
    "binaryImageOpened = cv2.morphologyEx(binaryImageClosed, cv2.MORPH_OPEN, kernelOpen)\n",
    "\n",
    "markers = cv2.connectedComponents(np.uint8(binaryImageOpened))[1]\n",
    "\n",
    "Nmarkers = len(np.unique(markers))\n",
    "Ndots = int(13*7)\n",
    "maximumSize = 50\n",
    "minimumSize = 5\n",
    "\n",
    "xdots = np.empty(0,dtype=float)\n",
    "ydots = np.empty(0,dtype=float)\n",
    "\n",
    "for i in range(1,Nmarkers,1):\n",
    "    idx = np.argwhere(markers==i)\n",
    "    \n",
    "    xSpread = np.max(idx[:,1])-np.min(idx[:,1])    \n",
    "    ySpread = np.max(idx[:,0])-np.min(idx[:,0])\n",
    "    \n",
    "    if ((minimumSize < xSpread < maximumSize) and (minimumSize < ySpread < maximumSize)):\n",
    "        xdots = np.append(xdots,np.mean(idx[:,1]))\n",
    "        ydots = np.append(ydots,np.mean(idx[:,0]))\n",
    "    \n",
    "plt.figure()\n",
    "plt.imshow(image,origin='lower',cmap='gray')\n",
    "plt.plot(xdots,ydots,'r.',markersize=1)\n",
    "plt.show()"
   ]
  },
  {
   "cell_type": "markdown",
   "metadata": {},
   "source": [
    "## Couple image to a spatial grid"
   ]
  },
  {
   "cell_type": "code",
   "execution_count": null,
   "metadata": {},
   "outputs": [],
   "source": [
    "# Sort the dots\n",
    "NRows = 7\n",
    "NColumns = 13\n",
    "\n",
    "for i in range(0,NRows,1):\n",
    "    idx = np.argsort(xdots[i*NColumns:(i+1)*NColumns])\n",
    "    \n",
    "    xdots[i*NColumns:(i+1)*NColumns] = xdots[i*NColumns+idx]\n",
    "    ydots[i*NColumns:(i+1)*NColumns] = ydots[i*NColumns+idx]\n",
    "\n",
    "\n",
    "    \n",
    "# Positions of the dots in meters\n",
    "distanceDots = 0.02 # meters\n",
    "x = np.linspace(0,(NColumns-1)*distanceDots,NColumns)\n",
    "y = np.linspace(0,(NRows-1)   *distanceDots,NRows)\n",
    "xReal, yReal = np.meshgrid(x,y)\n",
    "\n",
    "# We need these two arrays as input data sets for the least square fititng\n",
    "Bx = xReal.flatten()\n",
    "By = yReal.flatten()\n",
    "\n",
    "# Positions of the dots in pixels\n",
    "X = xdots*1\n",
    "Y = ydots*1\n",
    "\n",
    "\n",
    "A = np.array([X*0+1, X, Y, X**2, X**2*Y, X**2*Y**2, Y**2, X*Y**2, X*Y]).T\n",
    "\n",
    "# Use linear least square fitting to find the coefficients that solve A*x=B\n",
    "coeffx, _, _, _ = np.linalg.lstsq(A,Bx,rcond=None)\n",
    "coeffy, _, _, _ = np.linalg.lstsq(A,By,rcond=None)\n",
    "\n",
    "\n",
    "# This is the function we just used for fitting, but here explicit\n",
    "def surface(x,y, a,b,c,d,e,f,g,h,i):\n",
    "    return a + b*x + c*y + d*x**2 + e*x**2*y + f*x**2*y**2 + g*y**2 + h*x*y**1 + i*x*y\n",
    "\n",
    "\n",
    "# Plot and compare datapoints with fitted surfaces\n",
    "xplot,yplot = np.meshgrid(np.linspace(0,1500,100),np.linspace(0,1500,100))\n",
    "\n",
    "xplot = xplot.flatten()\n",
    "yplot = yplot.flatten()\n",
    "\n",
    "fig = plt.figure()\n",
    "ax = fig.add_subplot(111,projection='3d')\n",
    "ax.scatter(X,Y,xReal)\n",
    "ax.plot_trisurf(xplot,yplot,surface(xplot,yplot,*coeffx),alpha=0.3)\n",
    "ax.set_xlabel('x img [pixels]')\n",
    "ax.set_ylabel('y img [pixels]')\n",
    "ax.set_zlabel('x real [m]')\n",
    "plt.show()\n",
    "\n",
    "fig = plt.figure()\n",
    "ax = fig.add_subplot(111,projection='3d')\n",
    "ax.scatter(X,Y,yReal)\n",
    "ax.plot_trisurf(xplot,yplot,surface(xplot,yplot,*coeffy),alpha=0.3)\n",
    "ax.set_xlabel('x img [pixels]')\n",
    "ax.set_ylabel('y img [pixels]')\n",
    "ax.set_zlabel('y real [m]')\n",
    "plt.show()"
   ]
  },
  {
   "cell_type": "code",
   "execution_count": null,
   "metadata": {},
   "outputs": [],
   "source": []
  }
 ],
 "metadata": {
  "kernelspec": {
   "display_name": "Python 3",
   "language": "python",
   "name": "python3"
  },
  "language_info": {
   "codemirror_mode": {
    "name": "ipython",
    "version": 3
   },
   "file_extension": ".py",
   "mimetype": "text/x-python",
   "name": "python",
   "nbconvert_exporter": "python",
   "pygments_lexer": "ipython3",
   "version": "3.6.9"
  }
 },
 "nbformat": 4,
 "nbformat_minor": 4
}
