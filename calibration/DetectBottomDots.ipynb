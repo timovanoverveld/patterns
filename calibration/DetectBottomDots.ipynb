{
 "cells": [
  {
   "cell_type": "markdown",
   "metadata": {},
   "source": [
    "# Detect the bottom dots on an image and use it to construct a spatial mapping"
   ]
  },
  {
   "cell_type": "markdown",
   "metadata": {},
   "source": [
    "## Read, open and display the image"
   ]
  },
  {
   "cell_type": "code",
   "execution_count": null,
   "metadata": {},
   "outputs": [],
   "source": [
    "# Load modules\n",
    "import cv2\n",
    "import numpy as np\n",
    "import matplotlib.pyplot as plt\n",
    "plt.rcParams['figure.dpi'] = 200\n",
    "\n",
    "# Read image\n",
    "path = './../data/calibration/exampledots.tiff'\n",
    "\n",
    "bitdepth = 16\n",
    "\n",
    "# If image has bitdepth 8 or it has sharp contrasts making grayscale values obsolete\n",
    "if bitdepth == 8:\n",
    "    image = cv2.imread(path,cv2.CV_8UC1) * 16\n",
    "# \n",
    "elif bitdepth == 16:\n",
    "    image = cv2.imread(path,cv2.CV_16UC1)\n",
    "\n",
    "# Show image\n",
    "plt.figure()\n",
    "plt.imshow(image*1,origin='lower',cmap='gray')\n",
    "plt.show()"
   ]
  },
  {
   "cell_type": "markdown",
   "metadata": {},
   "source": [
    "## Extract grid data from loaded image"
   ]
  },
  {
   "cell_type": "code",
   "execution_count": null,
   "metadata": {},
   "outputs": [],
   "source": []
  },
  {
   "cell_type": "markdown",
   "metadata": {},
   "source": [
    "## Couple image to a spatial grid"
   ]
  },
  {
   "cell_type": "code",
   "execution_count": null,
   "metadata": {},
   "outputs": [],
   "source": []
  }
 ],
 "metadata": {
  "kernelspec": {
   "display_name": "Python 3",
   "language": "python",
   "name": "python3"
  },
  "language_info": {
   "codemirror_mode": {
    "name": "ipython",
    "version": 3
   },
   "file_extension": ".py",
   "mimetype": "text/x-python",
   "name": "python",
   "nbconvert_exporter": "python",
   "pygments_lexer": "ipython3",
   "version": "3.6.9"
  }
 },
 "nbformat": 4,
 "nbformat_minor": 4
}
